{
  "nbformat": 4,
  "nbformat_minor": 0,
  "metadata": {
    "colab": {
      "provenance": []
    },
    "kernelspec": {
      "name": "python3",
      "display_name": "Python 3"
    },
    "language_info": {
      "name": "python"
    }
  },
  "cells": [
    {
      "cell_type": "code",
      "execution_count": null,
      "metadata": {
        "id": "C36p3dIM5xP0"
      },
      "outputs": [],
      "source": []
    },
    {
      "cell_type": "code",
      "source": [
        "a=1\n",
        "b=2\n",
        "c=-4\n",
        "d=0\n",
        "e=8\n",
        "f=-6\n",
        "g=-7\n",
        "h=100000\n",
        "i=-1000000\n",
        "print(a)\n",
        "print(b)\n",
        "print(c)\n",
        "print(d)\n",
        "print(e)\n",
        "print(f)\n",
        "print(g)\n",
        "print(h)\n",
        "print(i)\n",
        "\n"
      ],
      "metadata": {
        "colab": {
          "base_uri": "https://localhost:8080/"
        },
        "id": "_EPlEjh5B7j2",
        "outputId": "0f9a0f7b-0472-4e22-a116-db9c39df98b9"
      },
      "execution_count": 2,
      "outputs": [
        {
          "output_type": "stream",
          "name": "stdout",
          "text": [
            "1\n",
            "2\n",
            "-4\n",
            "0\n",
            "8\n",
            "-6\n",
            "-7\n",
            "100000\n",
            "-1000000\n"
          ]
        }
      ]
    },
    {
      "cell_type": "markdown",
      "source": [
        "# **What is data types?**\n",
        "- Python Data types are the classification or categorization of data items.\n",
        "- It represents the kind of value that tells what operations can be performed on a particular data.\n",
        "\n",
        "## there are different types of data types and they are classified as follows:\n",
        "# Basic\n",
        "- int\n",
        "- float\n",
        "- complex\n",
        "- bool\n",
        "- char\n",
        "\n",
        "#Advance\n",
        "- list\n",
        "- str\n",
        "- tuple\n",
        "- dict\n",
        "- set\n",
        "\n",
        "# **Explain int with Example?**\n",
        "- This value is represented by int class. It contains positive or negative whole numbers (without fractions or decimals).\n",
        "- In Python, there is no limit to how long an integer value can be.\n",
        "- int will start from -infinity to +infinity including '0'\n",
        "\n",
        "\n",
        "\n",
        "\n"
      ],
      "metadata": {
        "id": "KqE4J1Z76Hkn"
      }
    },
    {
      "cell_type": "markdown",
      "source": [
        "# **Explain float with example?**\n",
        "- This value is represented by the float class. It is a real number with a floating-point representation. It is specified by a decimal point.\n",
        "- Optionally, the character e or E followed by a positive or negative integer may be appended to specify scientific notation.\n"
      ],
      "metadata": {
        "id": "FuLl-eVIDUwD"
      }
    },
    {
      "cell_type": "code",
      "source": [
        "a1=2.4\n",
        "b2=-1.3\n",
        "c3=5.5\n",
        "d4=9.0\n",
        "e5=-0.4\n",
        "f6=2.0\n",
        "g7=-543\n",
        "h8=-98\n",
        "i9=10000.0\n",
        "print(a1)\n",
        "print(b2)\n",
        "print(c3)\n",
        "print(d4)\n",
        "print(e5)\n",
        "print(f6)\n",
        "print(g7)\n",
        "print(h8)\n",
        "print(i9)\n",
        "\n",
        ""
      ],
      "metadata": {
        "colab": {
          "base_uri": "https://localhost:8080/"
        },
        "id": "PraxkX9dFg-P",
        "outputId": "37246b12-722a-4d3c-c101-1e45644771b3"
      },
      "execution_count": 3,
      "outputs": [
        {
          "output_type": "stream",
          "name": "stdout",
          "text": [
            "2.4\n",
            "-1.3\n",
            "5.5\n",
            "9.0\n",
            "-0.4\n",
            "2.0\n",
            "-543\n",
            "-98\n",
            "10000.0\n"
          ]
        }
      ]
    },
    {
      "cell_type": "markdown",
      "source": [
        "# **Explain  Complex with Examples?**\n",
        "- A complex number is represented by a complex class. It is specified as (real part) + (imaginary part)j .\n",
        "- For example – 2+3j\n"
      ],
      "metadata": {
        "id": "jYs5fFFBHVmM"
      }
    },
    {
      "cell_type": "code",
      "source": [
        "a1=1+2j\n",
        "b2=2-3j\n",
        "c3=-3+4j\n",
        "d4=-4+5j\n",
        "e5=-5j-6j\n",
        "f1=6j+7\n",
        "g2=-7j+8\n",
        "h3=7*8j\n",
        "i4=8j+9j\n",
        "j5=9j*10\n",
        "print(a1)\n",
        "print(b2)\n",
        "print(c3)\n",
        "print(d4)\n",
        "print(e5)\n",
        "print(f1)\n",
        "print(g2)\n",
        "print(h3)\n",
        "print(i4)\n",
        "print(j5)\n",
        "\n"
      ],
      "metadata": {
        "colab": {
          "base_uri": "https://localhost:8080/"
        },
        "id": "hdMlozcQJ05s",
        "outputId": "79d65693-6194-464a-f8e8-1353a72a2095"
      },
      "execution_count": 23,
      "outputs": [
        {
          "output_type": "stream",
          "name": "stdout",
          "text": [
            "(1+2j)\n",
            "(2-3j)\n",
            "(-3+4j)\n",
            "(-4+5j)\n",
            "(-0-11j)\n",
            "(7+6j)\n",
            "(8-7j)\n",
            "56j\n",
            "17j\n",
            "90j\n"
          ]
        }
      ]
    },
    {
      "cell_type": "code",
      "source": [],
      "metadata": {
        "id": "92EEY6mtJ_KZ"
      },
      "execution_count": null,
      "outputs": []
    },
    {
      "cell_type": "markdown",
      "source": [
        "# **Explain boolean with Example?**\n",
        "- Python Data type with one of the two built-in values, True or False.\n",
        "- Boolean objects that are equal to True are truthy (true), and those equal to False are falsy (false).\n"
      ],
      "metadata": {
        "id": "5bs-WwgpL3-L"
      }
    },
    {
      "cell_type": "code",
      "source": [
        "a=10\n",
        "b=20\n",
        "c=30\n",
        "d=40\n",
        "e=50\n",
        "print(a>b)\n",
        "print(b>c)\n",
        "print(c<d)\n",
        "print(d<e)\n",
        "print(e==b)\n",
        "print(a<=b)\n",
        "\n"
      ],
      "metadata": {
        "colab": {
          "base_uri": "https://localhost:8080/"
        },
        "id": "TP5fjzLmMT0P",
        "outputId": "88bddaed-1042-4f7c-9ab9-7aa815172ced"
      },
      "execution_count": 13,
      "outputs": [
        {
          "output_type": "stream",
          "name": "stdout",
          "text": [
            "False\n",
            "False\n",
            "True\n",
            "True\n",
            "False\n",
            "True\n"
          ]
        }
      ]
    },
    {
      "cell_type": "code",
      "source": [],
      "metadata": {
        "id": "_tl5Z7bNNzt6"
      },
      "execution_count": null,
      "outputs": []
    },
    {
      "cell_type": "markdown",
      "source": [
        "# **Explain type() with example?**\n",
        "- The type() function in Python is a built-in function that returns the type of data stored in a variable or object.\n",
        ""
      ],
      "metadata": {
        "id": "1xg168A5OwQf"
      }
    },
    {
      "cell_type": "code",
      "source": [
        "a=1\n",
        "b=2.6\n",
        "c=25\n",
        "d=a>b\n",
        "e=c>a\n",
        "f=\"BCCI\"\n",
        "g=5+4j\n",
        "print(type(a))\n",
        "print(type(b))\n",
        "print(type(c))\n",
        "print(type(d))\n",
        "print(type(e))\n",
        "print(type(f))\n",
        "print(type(g))\n",
        "\n"
      ],
      "metadata": {
        "colab": {
          "base_uri": "https://localhost:8080/"
        },
        "id": "uZ1e5FpXPNln",
        "outputId": "0b39455b-1859-4381-85a0-bf2a76b45215"
      },
      "execution_count": 2,
      "outputs": [
        {
          "output_type": "stream",
          "name": "stdout",
          "text": [
            "<class 'int'>\n",
            "<class 'float'>\n",
            "<class 'int'>\n",
            "<class 'bool'>\n",
            "<class 'bool'>\n",
            "<class 'str'>\n",
            "<class 'complex'>\n"
          ]
        }
      ]
    },
    {
      "cell_type": "code",
      "source": [],
      "metadata": {
        "id": "sBY6tMUjRIuJ"
      },
      "execution_count": null,
      "outputs": []
    }
  ]
}