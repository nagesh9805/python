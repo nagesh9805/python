{
  "nbformat": 4,
  "nbformat_minor": 0,
  "metadata": {
    "colab": {
      "provenance": []
    },
    "kernelspec": {
      "name": "python3",
      "display_name": "Python 3"
    },
    "language_info": {
      "name": "python"
    }
  },
  "cells": [
    {
      "cell_type": "code",
      "execution_count": null,
      "metadata": {
        "id": "Z6jIsqwOM4Q6"
      },
      "outputs": [],
      "source": []
    },
    {
      "cell_type": "markdown",
      "source": [
        "# **What is Python?**\n",
        "- Python is a programming language that is widly used in web apllication,\n",
        " Software devlopment, data science, and machine learning.\n",
        "- Python is an interpreted, object oriented high-level programming language with dynamic semantics\n",
        "- Python is a programming language that used to perform data analysis, including statistical analysis, Data Visualization and Data Preparation.\n",
        "\n",
        "# **Why Python?**\n",
        "- Easy to learn, easy to understand, easy to connect with the database\n",
        "- Its simplicity, community support, rich ecosystem of libraries and tools\n",
        "-Python works on different platforms (Windows, Mac, Linux, Raspberry Pi, etc).\n",
        "- Python has a simple syntax similar to the English language.\n",
        "- Python has syntax that allows developers to write programs with fewer lines than some\n",
        "other programming languages.\n",
        "- Python runs on an interpreter system, meaning that code can be executed as soon as it is\n",
        "written. This means that prototyping can be very quick.\n",
        "- Python can be treated in a procedural way, an object-oriented way or a functional way.\n",
        "\n",
        "# **History of Python?**\n",
        "- Python laid its foundation in the late 1980s.\n",
        "- The implementation of Python was started in\n",
        "December 1989 by Guido Van Rossum at CWI\n",
        "in Netherland.\n",
        "- In February 1991, Guido Van\n",
        "Rossum published the code (labeled version0.9.0) to alt.sources.\n",
        "- In 1994, Python 1.0 was released with new\n",
        "features like lambda, map, filter, and reduce.\n",
        "- Python 2.0 added new features such as list\n",
        "comprehensions, garbage collection systems.\n",
        "- On December 3, 2008, Python 3.0 (also called\n",
        "\"Py3K\") was released. It was designed to rectify\n",
        "the fundamental flaw of the language.\n",
        "\n",
        "# **Comments with Examples?**\n",
        "- Comments in Python are used to add explanary notes to the code. They help in making the code more readable and understandable but do not affect the execution of the program.\n",
        "There are two type of comments in Python\n",
        "# There are two types of comment in Python\n",
        "# Single-line Comments:\n",
        "-These comments are used for brief explanations or notes on a single line of code.\n",
        "-Syntax: They begin with a hash symbol (#).\n",
        "\n",
        "\n",
        "\n",
        "\n",
        "\n",
        "\n",
        "\n",
        "\n",
        "\n",
        "\n",
        "\n"
      ],
      "metadata": {
        "id": "zgyHHYeoM5iR"
      }
    },
    {
      "cell_type": "code",
      "source": [
        "# This is a single-line comment\n",
        "print(\"Hello, world!\")  # This is an inline comment\n"
      ],
      "metadata": {
        "colab": {
          "base_uri": "https://localhost:8080/"
        },
        "id": "mNPM0wh2pSi_",
        "outputId": "a6da9aae-2807-4317-ae44-26088b13813f"
      },
      "execution_count": null,
      "outputs": [
        {
          "output_type": "stream",
          "name": "stdout",
          "text": [
            "Hello, world!\n"
          ]
        }
      ]
    },
    {
      "cell_type": "markdown",
      "source": [
        "# **Multi-line comments**\n",
        "- Python does not have a specific syntax for multi-line comments, but you can use triple quotes (''' or \"\"\") to simulate multi-line comments. Although triple quotes are typically used for docstrings, they can also be used for comments if they are not assigned to a variable.\n",
        "\n",
        "\n",
        "\n"
      ],
      "metadata": {
        "id": "ojpv4TFWqCsi"
      }
    },
    {
      "cell_type": "code",
      "source": [
        "'''\n",
        "This is a multi-line comment.\n",
        "It spans multiple lines.\n",
        "You can use it to explain a section of your code.\n",
        "'''\n",
        "print(\"This is a multi-line comment example.\")\n"
      ],
      "metadata": {
        "colab": {
          "base_uri": "https://localhost:8080/"
        },
        "id": "ff-o_GiFqqKm",
        "outputId": "1596e870-cbce-4599-ec87-38fca9306fdb"
      },
      "execution_count": null,
      "outputs": [
        {
          "output_type": "stream",
          "name": "stdout",
          "text": [
            "This is a multi-line comment example.\n"
          ]
        }
      ]
    },
    {
      "cell_type": "markdown",
      "source": [
        "## **Keywords with example?**\n",
        "- keywords are reserved words that have special meanings and are part of the language syntax. These keywords cannot be used as identifiers (such as variable names, function names, or class names)\n",
        "#example\n",
        "False, None, True, and, as, assert, break, class, continue, def, del, elif, else, except, finally, for, from, global, if, import, in, is, lambda, nonlocal, not, or, pass, raise, return, try, while, with, yield.\n",
        "\n",
        "# **what is variable and rules?**\n",
        "- Storing of an element.  It acts as a container for data, and this data can be of various types such as numbers, strings, lists, and more. Variables allow you to store and manipulate data during the execution of a program.\n",
        "# **Rules**\n",
        "\n",
        "- Variables are created using alpha neumaric characters[a-Z,a-z,0-9]\n",
        "- Variable name can not start with digit\n",
        "- we can not able to use special character to creat avariable exept(-)underscore\n",
        "- we cant not able use keywords to creat a variable(if,else,for,etc)\n",
        "- Variable is a case-sencitive (Age and age are deffrent).\n",
        "\n",
        "## **Valid and invalid variable example? (store neumaric values)**\n",
        "# - valid:\n",
        "\n",
        "\n"
      ],
      "metadata": {
        "id": "O1o9YdSpq3Pw"
      }
    },
    {
      "cell_type": "code",
      "source": [
        "# Example 1: Variable starts with a letter\n",
        "age = 25\n",
        "print(age)  # Output: 25\n",
        "\n",
        "# Example 2: Variable contains letters and numbers\n",
        "name_123 = \"Alice\"\n",
        "print(name_123)  # Output: Alice\n",
        "\n",
        "# Example 3: Variable starts with an underscore\n",
        "_score = 100\n",
        "print(_score)  # Output: 100\n",
        "\n",
        "# Example 4: Variable starts with a letter and contains a number\n",
        "height_5 = 5.6\n",
        "print(height_5)  # Output: 5.6\n",
        "\n",
        "# Example 5: Camel case variable\n",
        "tempVariable = 42\n",
        "print(tempVariable)  # Output: 42\n",
        "\n",
        "# Example 6: Variable starts with a letter and contains a number\n",
        "value_1 = 50\n",
        "print(value_1)  # Output: 50\n",
        "\n",
        "# Example 7: Variable with an underscore\n",
        "user_name = \"John\"\n",
        "print(user_name)  # Output: John\n",
        "\n",
        "# Example 8: Variable with a number in the second position\n",
        "x1 = 10\n",
        "print(x1)  # Output\n"
      ],
      "metadata": {
        "colab": {
          "base_uri": "https://localhost:8080/"
        },
        "id": "eHugbHPpzRB2",
        "outputId": "f402ec75-71a9-42fe-e87f-d0e1fb1fee5d"
      },
      "execution_count": null,
      "outputs": [
        {
          "output_type": "stream",
          "name": "stdout",
          "text": [
            "25\n",
            "Alice\n",
            "100\n",
            "5.6\n",
            "42\n",
            "50\n",
            "John\n",
            "10\n"
          ]
        }
      ]
    },
    {
      "cell_type": "markdown",
      "source": [
        "# Invalid:\n",
        "\n"
      ],
      "metadata": {
        "id": "eUdJqPQCzZnY"
      }
    },
    {
      "cell_type": "code",
      "source": [],
      "metadata": {
        "id": "A9rbGtKbzwf-"
      },
      "execution_count": null,
      "outputs": []
    },
    {
      "cell_type": "code",
      "source": [
        "# Example 1: Starts with a number (invalid)\n",
        "# 1st_name = \"Bob\"  # SyntaxError: invalid syntax\n",
        "\n",
        "# Example 2: Contains a hyphen (invalid)\n",
        "# total-amount = 100  # SyntaxError: invalid syntax\n",
        "\n",
        "# Example 3: Uses a Python keyword (invalid)\n",
        "# for = 10  # SyntaxError: cannot assign to keyword\n",
        "\n",
        "# Example 4: Starts with a number (invalid)\n",
        "# 123abc = \"Hello\"  # SyntaxError: invalid syntax\n",
        "\n",
        "# Example 5: Contains a space (invalid)\n",
        "# total amount = 200  # SyntaxError: invalid syntax\n",
        "\n",
        "# Example 6: Contains a special character '@' (invalid)\n",
        "# @variable = 50  # SyntaxError: invalid syntax\n",
        "\n",
        "# Example 7: Uses a Python keyword (invalid)\n",
        "# global = 100  # SyntaxError: cannot assign to keyword\n",
        "\n",
        "# Example 8: Uses a Python keyword (invalid)\n",
        "# if_value = 20  # SyntaxError: cannot assign to keyword\n",
        "\n",
        "# Example 9: Contains a special character '$' (invalid)\n",
        "# variable$ = 5  # SyntaxError: invalid syntax\n",
        "\n",
        "# Example 10: Uses a Python keyword (invalid)\n",
        "# True = 10  # SyntaxError: cannot assign to keyword\n"
      ],
      "metadata": {
        "id": "JBd8jgwgzxCB"
      },
      "execution_count": null,
      "outputs": []
    }
  ]
}